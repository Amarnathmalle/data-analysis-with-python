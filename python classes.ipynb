{
 "cells": [
  {
   "cell_type": "code",
   "execution_count": 2,
   "id": "ebc10253",
   "metadata": {},
   "outputs": [
    {
     "name": "stdout",
     "output_type": "stream",
     "text": [
      "Calling the __init__() constructor!\n",
      "\n",
      "1\n",
      "2\n"
     ]
    }
   ],
   "source": [
    "#Init_constructor:\n",
    "#All classes have a function called __init__(), which is always executed when the class is being initiated.\n",
    "#Use the __init__() function to assign values to object properties, or other operations that are necessary to do\n",
    "#when the object is being created:\n",
    "\n",
    "#Example:\n",
    "class MyNum(object):\n",
    "    def __init__(self):\n",
    "        print(\"Calling the __init__() constructor!\\n\")\n",
    "        self.val = 0\n",
    "\n",
    "    def increment(self):\n",
    "        self.val = self.val + 1\n",
    "        print(self.val)\n",
    "\n",
    "dd = MyNum()\n",
    "dd.increment()  # will print 1\n",
    "dd.increment()  # will print 2\n"
   ]
  },
  {
   "cell_type": "code",
   "execution_count": 5,
   "id": "5e5e9afd",
   "metadata": {},
   "outputs": [
    {
     "name": "stdout",
     "output_type": "stream",
     "text": [
      "2016-05-14\n",
      "\n",
      "\n",
      "07:00:00\n",
      "\n",
      "\n",
      "2016-05-14\n"
     ]
    }
   ],
   "source": [
    "#Inheritance\n",
    "#inheritance:\n",
    "# Any class inheriting from another class (also called a Parent class)\n",
    "# inherits the methods and attributes from the Parent class.\n",
    "\n",
    "# Hence, any instances created from the class `Time` can access\n",
    "# the methods defined in the parent class `Date`.\n",
    "\n",
    "\n",
    "class Date(object):\n",
    "    def get_date(self):\n",
    "        print(\"2016-05-14\")\n",
    "\n",
    "\n",
    "class Time(Date):\n",
    "    def get_time(self):\n",
    "        print(\"07:00:00\")\n",
    "\n",
    "# Creating an instance from `Date`\n",
    "dt = Date()\n",
    "dt.get_date()  # Accesing the `get_date()` method of `Date`\n",
    "\n",
    "\n",
    "# Creating an instance from `Time`.\n",
    "tm = Time()\n",
    "print(\"\\n\")\n",
    "tm.get_time()   # Accessing the `get_time()` method from `Time`.\n",
    "# Accessing the `get_date() which is defined in the parent class `Date`.\n",
    "print(\"\\n\")\n",
    "tm.get_date()\n"
   ]
  },
  {
   "cell_type": "code",
   "execution_count": 7,
   "id": "43a9e62e",
   "metadata": {},
   "outputs": [
    {
     "name": "stdout",
     "output_type": "stream",
     "text": [
      "100\n",
      "\n",
      "\n",
      "1000\n"
     ]
    }
   ],
   "source": [
    "# Encapsulation\n",
    "# Encapsulation means to preserve data in classes using methods.\n",
    "#In this example we're setting the 'val' attribute through 'set_val()'.\n",
    "\n",
    "\n",
    "class MyClass(object):\n",
    "    def set_val(self, value):\n",
    "        self.value = value\n",
    "\n",
    "    def get_val(self):\n",
    "        print(self.value)\n",
    "\n",
    "a = MyClass()\n",
    "b = MyClass()\n",
    "\n",
    "a.set_val(10)\n",
    "b.set_val(1000)\n",
    "a.value = 100    # <== Overriding `set_value` directly\n",
    "# <== ie..  Breaking encapsulation\n",
    "\n",
    "a.get_val()\n",
    "print(\"\\n\")\n",
    "b.get_val()\n"
   ]
  },
  {
   "cell_type": "code",
   "execution_count": 8,
   "id": "9101d592",
   "metadata": {},
   "outputs": [
    {
     "name": "stdout",
     "output_type": "stream",
     "text": [
      "10\n"
     ]
    },
    {
     "data": {
      "text/plain": [
       "100"
      ]
     },
     "execution_count": 8,
     "metadata": {},
     "output_type": "execute_result"
    }
   ],
   "source": [
    "#Classes-attributes:\n",
    "# The attribute defined in the class is called `class attributes`\n",
    "# and the attribute defined in the function is called `instance attributes`.\n",
    "\n",
    "\n",
    "class YourClass(object):\n",
    "    classy = 10\n",
    "\n",
    "    def set_val(self):\n",
    "        self.insty = 100\n",
    "\n",
    "dd = YourClass()\n",
    "dd.classy   # This will fetch the class attribute 10.\n",
    "print(dd.classy)\n",
    "dd.set_val()\n",
    "dd.insty    # This will fetch the instance attribute 100.\n",
    "\n"
   ]
  },
  {
   "cell_type": "code",
   "execution_count": null,
   "id": "f34b2eeb",
   "metadata": {},
   "outputs": [],
   "source": []
  }
 ],
 "metadata": {
  "kernelspec": {
   "display_name": "Python 3",
   "language": "python",
   "name": "python3"
  },
  "language_info": {
   "codemirror_mode": {
    "name": "ipython",
    "version": 3
   },
   "file_extension": ".py",
   "mimetype": "text/x-python",
   "name": "python",
   "nbconvert_exporter": "python",
   "pygments_lexer": "ipython3",
   "version": "3.8.8"
  }
 },
 "nbformat": 4,
 "nbformat_minor": 5
}
